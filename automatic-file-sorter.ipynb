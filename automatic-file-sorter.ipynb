{
 "cells": [
  {
   "cell_type": "code",
   "execution_count": 4,
   "metadata": {},
   "outputs": [],
   "source": [
    "import os, shutil"
   ]
  },
  {
   "cell_type": "code",
   "execution_count": 6,
   "metadata": {},
   "outputs": [],
   "source": [
    "path=r\"C:/Users/Dell/Videos/entertainment/\""
   ]
  },
  {
   "cell_type": "code",
   "execution_count": 20,
   "metadata": {},
   "outputs": [
    {
     "name": "stdout",
     "output_type": "stream",
     "text": [
      "['leetcode solutions.pdf', 'Past Lives (2023) 1080p BluRay 10bit HEVC [Hindi DD 2.0 + English DDP 5.1] x265 (LAMA-UHDMovies).mkv', 'photo-1490730141103-6cac27aaab94.avif', 'png_79-2.jpg', 'Report Sujan.pdf']\n"
     ]
    }
   ],
   "source": [
    "file_name=os.listdir(path)\n",
    "print(file_name)"
   ]
  },
  {
   "cell_type": "code",
   "execution_count": 14,
   "metadata": {},
   "outputs": [
    {
     "name": "stdout",
     "output_type": "stream",
     "text": [
      "False\n",
      "False\n",
      "False\n"
     ]
    }
   ],
   "source": [
    "# os.path.exists(path + 'csv files')\n",
    "\n",
    "folder_names=['image files','pdf file','videos']\n",
    "for loop in range(0,3):\n",
    "    a= os.path.exists(path + folder_names[loop])\n",
    "    print(a) \n",
    "    "
   ]
  },
  {
   "cell_type": "code",
   "execution_count": 25,
   "metadata": {},
   "outputs": [],
   "source": [
    "folder_names=['image files','pdf file','videos']\n",
    "for loop in range(0,3):\n",
    "    a=os.path.exists(path + folder_names[loop])\n",
    "    if not a:\n",
    "        os.makedirs(path + folder_names[loop])\n",
    "    \n",
    "image_type=[\".avif\",\".png\",\".jpg\"]\n",
    "for file  in file_name:\n",
    "    if \".pdf\" in file and not os.path.exists(path + \"pdf file/\"+ file):\n",
    "        shutil.move(path + file , path +\"pdf file/\"+ file)\n",
    "    elif any(extension in file for extension in image_type):\n",
    "        if not os.path.exists(path + \"image files/\" + file):\n",
    "            shutil.move(path + file, path + \"image files/\" + file)\n",
    "                            # OR\n",
    "    # elif any(file.endswith(ext) for ext in image_type):\n",
    "    #   if not os.path.exists(path + \"image files/\" + file):\n",
    "    #       shutil.move(path + file, path + \"image files/\" + file)\n",
    "    elif \".mkv\" in file and not os.path.exists(path + \"videos/\"+ file):\n",
    "        shutil.move(path + file , path +\"videos/\"+ file)"
   ]
  }
 ],
 "metadata": {
  "kernelspec": {
   "display_name": "Python 3",
   "language": "python",
   "name": "python3"
  },
  "language_info": {
   "codemirror_mode": {
    "name": "ipython",
    "version": 3
   },
   "file_extension": ".py",
   "mimetype": "text/x-python",
   "name": "python",
   "nbconvert_exporter": "python",
   "pygments_lexer": "ipython3",
   "version": "3.11.9"
  }
 },
 "nbformat": 4,
 "nbformat_minor": 2
}
